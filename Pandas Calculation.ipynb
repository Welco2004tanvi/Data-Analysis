{
 "cells": [
  {
   "cell_type": "code",
   "execution_count": 1,
   "id": "73ddaa3e",
   "metadata": {},
   "outputs": [],
   "source": [
    "import pandas\n",
    "\n"
   ]
  },
  {
   "cell_type": "code",
   "execution_count": 2,
   "id": "b987cf71",
   "metadata": {},
   "outputs": [],
   "source": [
    "url =\"https://raw.githubusercontent.com/sohamglobal/datasets/refs/heads/main/FitnessCustomers.csv\"\n"
   ]
  },
  {
   "cell_type": "code",
   "execution_count": 3,
   "id": "8b17873f",
   "metadata": {},
   "outputs": [],
   "source": [
    "df = pandas.read_csv(url)"
   ]
  },
  {
   "cell_type": "code",
   "execution_count": 4,
   "id": "cec95877",
   "metadata": {},
   "outputs": [
    {
     "data": {
      "text/html": [
       "<div>\n",
       "<style scoped>\n",
       "    .dataframe tbody tr th:only-of-type {\n",
       "        vertical-align: middle;\n",
       "    }\n",
       "\n",
       "    .dataframe tbody tr th {\n",
       "        vertical-align: top;\n",
       "    }\n",
       "\n",
       "    .dataframe thead th {\n",
       "        text-align: right;\n",
       "    }\n",
       "</style>\n",
       "<table border=\"1\" class=\"dataframe\">\n",
       "  <thead>\n",
       "    <tr style=\"text-align: right;\">\n",
       "      <th></th>\n",
       "      <th>CustomerID</th>\n",
       "      <th>Age</th>\n",
       "      <th>Gender</th>\n",
       "      <th>Weight</th>\n",
       "      <th>Height</th>\n",
       "      <th>BMI</th>\n",
       "      <th>ExerciseTime</th>\n",
       "      <th>Smoking</th>\n",
       "      <th>Alcohol</th>\n",
       "      <th>CaloriesIntake</th>\n",
       "      <th>StepsDay</th>\n",
       "      <th>FitnessGoal</th>\n",
       "      <th>Status</th>\n",
       "      <th>MembershipType</th>\n",
       "      <th>Region</th>\n",
       "    </tr>\n",
       "  </thead>\n",
       "  <tbody>\n",
       "    <tr>\n",
       "      <th>0</th>\n",
       "      <td>CUST1000</td>\n",
       "      <td>56</td>\n",
       "      <td>Male</td>\n",
       "      <td>72</td>\n",
       "      <td>181</td>\n",
       "      <td>22.0</td>\n",
       "      <td>11</td>\n",
       "      <td>No</td>\n",
       "      <td>No</td>\n",
       "      <td>2034</td>\n",
       "      <td>12940</td>\n",
       "      <td>Maintenance</td>\n",
       "      <td>Off Track</td>\n",
       "      <td>Premium</td>\n",
       "      <td>West</td>\n",
       "    </tr>\n",
       "    <tr>\n",
       "      <th>1</th>\n",
       "      <td>CUST1001</td>\n",
       "      <td>46</td>\n",
       "      <td>Female</td>\n",
       "      <td>75</td>\n",
       "      <td>180</td>\n",
       "      <td>23.1</td>\n",
       "      <td>69</td>\n",
       "      <td>No</td>\n",
       "      <td>No</td>\n",
       "      <td>3216</td>\n",
       "      <td>9240</td>\n",
       "      <td>Weight Loss</td>\n",
       "      <td>On Track</td>\n",
       "      <td>Premium</td>\n",
       "      <td>East</td>\n",
       "    </tr>\n",
       "    <tr>\n",
       "      <th>2</th>\n",
       "      <td>CUST1002</td>\n",
       "      <td>32</td>\n",
       "      <td>Female</td>\n",
       "      <td>83</td>\n",
       "      <td>165</td>\n",
       "      <td>30.5</td>\n",
       "      <td>16</td>\n",
       "      <td>No</td>\n",
       "      <td>Yes</td>\n",
       "      <td>2816</td>\n",
       "      <td>14363</td>\n",
       "      <td>Muscle Gain</td>\n",
       "      <td>Off Track</td>\n",
       "      <td>Premium</td>\n",
       "      <td>South</td>\n",
       "    </tr>\n",
       "    <tr>\n",
       "      <th>3</th>\n",
       "      <td>CUST1003</td>\n",
       "      <td>60</td>\n",
       "      <td>Female</td>\n",
       "      <td>95</td>\n",
       "      <td>181</td>\n",
       "      <td>29.0</td>\n",
       "      <td>114</td>\n",
       "      <td>No</td>\n",
       "      <td>No</td>\n",
       "      <td>2532</td>\n",
       "      <td>6408</td>\n",
       "      <td>Weight Loss</td>\n",
       "      <td>Off Track</td>\n",
       "      <td>Premium</td>\n",
       "      <td>West</td>\n",
       "    </tr>\n",
       "    <tr>\n",
       "      <th>4</th>\n",
       "      <td>CUST1004</td>\n",
       "      <td>25</td>\n",
       "      <td>Male</td>\n",
       "      <td>83</td>\n",
       "      <td>181</td>\n",
       "      <td>25.3</td>\n",
       "      <td>18</td>\n",
       "      <td>No</td>\n",
       "      <td>Yes</td>\n",
       "      <td>2794</td>\n",
       "      <td>4861</td>\n",
       "      <td>Muscle Gain</td>\n",
       "      <td>Off Track</td>\n",
       "      <td>Basic</td>\n",
       "      <td>South</td>\n",
       "    </tr>\n",
       "  </tbody>\n",
       "</table>\n",
       "</div>"
      ],
      "text/plain": [
       "  CustomerID  Age  Gender  Weight  Height   BMI  ExerciseTime Smoking Alcohol  \\\n",
       "0   CUST1000   56    Male      72     181  22.0            11      No      No   \n",
       "1   CUST1001   46  Female      75     180  23.1            69      No      No   \n",
       "2   CUST1002   32  Female      83     165  30.5            16      No     Yes   \n",
       "3   CUST1003   60  Female      95     181  29.0           114      No      No   \n",
       "4   CUST1004   25    Male      83     181  25.3            18      No     Yes   \n",
       "\n",
       "   CaloriesIntake  StepsDay  FitnessGoal     Status MembershipType Region  \n",
       "0            2034     12940  Maintenance  Off Track        Premium   West  \n",
       "1            3216      9240  Weight Loss   On Track        Premium   East  \n",
       "2            2816     14363  Muscle Gain  Off Track        Premium  South  \n",
       "3            2532      6408  Weight Loss  Off Track        Premium   West  \n",
       "4            2794      4861  Muscle Gain  Off Track          Basic  South  "
      ]
     },
     "execution_count": 4,
     "metadata": {},
     "output_type": "execute_result"
    }
   ],
   "source": [
    "df.head()"
   ]
  },
  {
   "cell_type": "code",
   "execution_count": 6,
   "id": "093fe206",
   "metadata": {},
   "outputs": [],
   "source": [
    "df = df[['CustomerID','Age','Weight','Height','BMI','ExerciseTime','CaloriesIntake']]"
   ]
  },
  {
   "cell_type": "code",
   "execution_count": 7,
   "id": "447e2b40",
   "metadata": {},
   "outputs": [
    {
     "data": {
      "text/html": [
       "<div>\n",
       "<style scoped>\n",
       "    .dataframe tbody tr th:only-of-type {\n",
       "        vertical-align: middle;\n",
       "    }\n",
       "\n",
       "    .dataframe tbody tr th {\n",
       "        vertical-align: top;\n",
       "    }\n",
       "\n",
       "    .dataframe thead th {\n",
       "        text-align: right;\n",
       "    }\n",
       "</style>\n",
       "<table border=\"1\" class=\"dataframe\">\n",
       "  <thead>\n",
       "    <tr style=\"text-align: right;\">\n",
       "      <th></th>\n",
       "      <th>CustomerID</th>\n",
       "      <th>Age</th>\n",
       "      <th>Weight</th>\n",
       "      <th>Height</th>\n",
       "      <th>BMI</th>\n",
       "      <th>ExerciseTime</th>\n",
       "      <th>CaloriesIntake</th>\n",
       "    </tr>\n",
       "  </thead>\n",
       "  <tbody>\n",
       "    <tr>\n",
       "      <th>0</th>\n",
       "      <td>CUST1000</td>\n",
       "      <td>56</td>\n",
       "      <td>72</td>\n",
       "      <td>181</td>\n",
       "      <td>22.0</td>\n",
       "      <td>11</td>\n",
       "      <td>2034</td>\n",
       "    </tr>\n",
       "    <tr>\n",
       "      <th>1</th>\n",
       "      <td>CUST1001</td>\n",
       "      <td>46</td>\n",
       "      <td>75</td>\n",
       "      <td>180</td>\n",
       "      <td>23.1</td>\n",
       "      <td>69</td>\n",
       "      <td>3216</td>\n",
       "    </tr>\n",
       "    <tr>\n",
       "      <th>2</th>\n",
       "      <td>CUST1002</td>\n",
       "      <td>32</td>\n",
       "      <td>83</td>\n",
       "      <td>165</td>\n",
       "      <td>30.5</td>\n",
       "      <td>16</td>\n",
       "      <td>2816</td>\n",
       "    </tr>\n",
       "    <tr>\n",
       "      <th>3</th>\n",
       "      <td>CUST1003</td>\n",
       "      <td>60</td>\n",
       "      <td>95</td>\n",
       "      <td>181</td>\n",
       "      <td>29.0</td>\n",
       "      <td>114</td>\n",
       "      <td>2532</td>\n",
       "    </tr>\n",
       "    <tr>\n",
       "      <th>4</th>\n",
       "      <td>CUST1004</td>\n",
       "      <td>25</td>\n",
       "      <td>83</td>\n",
       "      <td>181</td>\n",
       "      <td>25.3</td>\n",
       "      <td>18</td>\n",
       "      <td>2794</td>\n",
       "    </tr>\n",
       "  </tbody>\n",
       "</table>\n",
       "</div>"
      ],
      "text/plain": [
       "  CustomerID  Age  Weight  Height   BMI  ExerciseTime  CaloriesIntake\n",
       "0   CUST1000   56      72     181  22.0            11            2034\n",
       "1   CUST1001   46      75     180  23.1            69            3216\n",
       "2   CUST1002   32      83     165  30.5            16            2816\n",
       "3   CUST1003   60      95     181  29.0           114            2532\n",
       "4   CUST1004   25      83     181  25.3            18            2794"
      ]
     },
     "execution_count": 7,
     "metadata": {},
     "output_type": "execute_result"
    }
   ],
   "source": [
    "df.head()"
   ]
  },
  {
   "cell_type": "code",
   "execution_count": 10,
   "id": "d38ffe89",
   "metadata": {},
   "outputs": [
    {
     "name": "stdout",
     "output_type": "stream",
     "text": [
      "0      3136\n",
      "1      2116\n",
      "2      1024\n",
      "3      3600\n",
      "4       625\n",
      "       ... \n",
      "995     484\n",
      "996    1600\n",
      "997     729\n",
      "998    3721\n",
      "999     361\n",
      "Name: Age, Length: 1000, dtype: int64\n"
     ]
    }
   ],
   "source": [
    "print(df['Age']**2)"
   ]
  },
  {
   "cell_type": "code",
   "execution_count": 11,
   "id": "4d9499bf",
   "metadata": {},
   "outputs": [
    {
     "name": "stdout",
     "output_type": "stream",
     "text": [
      "0      53\n",
      "1      43\n",
      "2      29\n",
      "3      57\n",
      "4      22\n",
      "       ..\n",
      "995    19\n",
      "996    37\n",
      "997    24\n",
      "998    58\n",
      "999    16\n",
      "Name: Age, Length: 1000, dtype: int64\n"
     ]
    }
   ],
   "source": [
    "print(df['Age']-3)"
   ]
  },
  {
   "cell_type": "code",
   "execution_count": 17,
   "id": "763f925b",
   "metadata": {},
   "outputs": [
    {
     "name": "stdout",
     "output_type": "stream",
     "text": [
      "BMI of Customers Calculated: \n",
      "0      21.977351\n",
      "1      23.148148\n",
      "2      30.486685\n",
      "3      28.997894\n",
      "4      25.335002\n",
      "         ...    \n",
      "995    25.721032\n",
      "996    27.580200\n",
      "997    31.161374\n",
      "998    14.127424\n",
      "999    16.305062\n",
      "Length: 1000, dtype: float64\n",
      " Original\n",
      "0      22.0\n",
      "1      23.1\n",
      "2      30.5\n",
      "3      29.0\n",
      "4      25.3\n",
      "       ... \n",
      "995    25.7\n",
      "996    27.6\n",
      "997    31.2\n",
      "998    14.1\n",
      "999    16.3\n",
      "Name: BMI, Length: 1000, dtype: float64\n"
     ]
    }
   ],
   "source": [
    "print(\"BMI of Customers Calculated: \")\n",
    "print(df['Weight']*10000/df['Height']**2)\n",
    "\n",
    "print(\" Original\")\n",
    "print(df['BMI'])"
   ]
  },
  {
   "cell_type": "code",
   "execution_count": 18,
   "id": "deb7b521",
   "metadata": {},
   "outputs": [
    {
     "name": "stdout",
     "output_type": "stream",
     "text": [
      "24.5809\n"
     ]
    }
   ],
   "source": [
    "print(df['BMI'].mean())"
   ]
  },
  {
   "cell_type": "code",
   "execution_count": 22,
   "id": "12df494a",
   "metadata": {},
   "outputs": [
    {
     "name": "stdout",
     "output_type": "stream",
     "text": [
      "24.0\n"
     ]
    }
   ],
   "source": [
    "print(df['BMI'].median())"
   ]
  },
  {
   "cell_type": "code",
   "execution_count": 24,
   "id": "e7753c8e",
   "metadata": {},
   "outputs": [
    {
     "name": "stdout",
     "output_type": "stream",
     "text": [
      "0    43\n",
      "Name: Age, dtype: int64\n"
     ]
    }
   ],
   "source": [
    "print(df['Age'].mode())"
   ]
  },
  {
   "cell_type": "code",
   "execution_count": null,
   "id": "cc933cfb",
   "metadata": {},
   "outputs": [],
   "source": []
  }
 ],
 "metadata": {
  "kernelspec": {
   "display_name": "Python 3 (ipykernel)",
   "language": "python",
   "name": "python3"
  },
  "language_info": {
   "codemirror_mode": {
    "name": "ipython",
    "version": 3
   },
   "file_extension": ".py",
   "mimetype": "text/x-python",
   "name": "python",
   "nbconvert_exporter": "python",
   "pygments_lexer": "ipython3",
   "version": "3.11.4"
  }
 },
 "nbformat": 4,
 "nbformat_minor": 5
}
