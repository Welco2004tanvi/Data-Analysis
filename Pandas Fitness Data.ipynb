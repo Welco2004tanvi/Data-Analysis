{
 "cells": [
  {
   "cell_type": "markdown",
   "id": "a6c81dbd",
   "metadata": {},
   "source": [
    "Assignment"
   ]
  },
  {
   "cell_type": "code",
   "execution_count": 2,
   "id": "a192a5e6",
   "metadata": {},
   "outputs": [],
   "source": [
    "import pandas as pd\n"
   ]
  },
  {
   "cell_type": "code",
   "execution_count": null,
   "id": "941a5ab3",
   "metadata": {},
   "outputs": [],
   "source": [
    "url = \"https://raw.githubusercontent.com/sohamglobal/datasets/refs/heads/main/FitnessCustomers.csv\"\n",
    "df = pd.read_csv(url)"
   ]
  },
  {
   "cell_type": "code",
   "execution_count": 4,
   "id": "2f423e5c",
   "metadata": {},
   "outputs": [
    {
     "data": {
      "text/html": [
       "<div>\n",
       "<style scoped>\n",
       "    .dataframe tbody tr th:only-of-type {\n",
       "        vertical-align: middle;\n",
       "    }\n",
       "\n",
       "    .dataframe tbody tr th {\n",
       "        vertical-align: top;\n",
       "    }\n",
       "\n",
       "    .dataframe thead th {\n",
       "        text-align: right;\n",
       "    }\n",
       "</style>\n",
       "<table border=\"1\" class=\"dataframe\">\n",
       "  <thead>\n",
       "    <tr style=\"text-align: right;\">\n",
       "      <th></th>\n",
       "      <th>CustomerID</th>\n",
       "      <th>Age</th>\n",
       "      <th>Gender</th>\n",
       "      <th>Weight</th>\n",
       "      <th>Height</th>\n",
       "      <th>BMI</th>\n",
       "      <th>ExerciseTime</th>\n",
       "      <th>Smoking</th>\n",
       "      <th>Alcohol</th>\n",
       "      <th>CaloriesIntake</th>\n",
       "      <th>StepsDay</th>\n",
       "      <th>FitnessGoal</th>\n",
       "      <th>Status</th>\n",
       "      <th>MembershipType</th>\n",
       "      <th>Region</th>\n",
       "    </tr>\n",
       "  </thead>\n",
       "  <tbody>\n",
       "    <tr>\n",
       "      <th>0</th>\n",
       "      <td>CUST1000</td>\n",
       "      <td>56</td>\n",
       "      <td>Male</td>\n",
       "      <td>72</td>\n",
       "      <td>181</td>\n",
       "      <td>22.0</td>\n",
       "      <td>11</td>\n",
       "      <td>No</td>\n",
       "      <td>No</td>\n",
       "      <td>2034</td>\n",
       "      <td>12940</td>\n",
       "      <td>Maintenance</td>\n",
       "      <td>Off Track</td>\n",
       "      <td>Premium</td>\n",
       "      <td>West</td>\n",
       "    </tr>\n",
       "    <tr>\n",
       "      <th>1</th>\n",
       "      <td>CUST1001</td>\n",
       "      <td>46</td>\n",
       "      <td>Female</td>\n",
       "      <td>75</td>\n",
       "      <td>180</td>\n",
       "      <td>23.1</td>\n",
       "      <td>69</td>\n",
       "      <td>No</td>\n",
       "      <td>No</td>\n",
       "      <td>3216</td>\n",
       "      <td>9240</td>\n",
       "      <td>Weight Loss</td>\n",
       "      <td>On Track</td>\n",
       "      <td>Premium</td>\n",
       "      <td>East</td>\n",
       "    </tr>\n",
       "    <tr>\n",
       "      <th>2</th>\n",
       "      <td>CUST1002</td>\n",
       "      <td>32</td>\n",
       "      <td>Female</td>\n",
       "      <td>83</td>\n",
       "      <td>165</td>\n",
       "      <td>30.5</td>\n",
       "      <td>16</td>\n",
       "      <td>No</td>\n",
       "      <td>Yes</td>\n",
       "      <td>2816</td>\n",
       "      <td>14363</td>\n",
       "      <td>Muscle Gain</td>\n",
       "      <td>Off Track</td>\n",
       "      <td>Premium</td>\n",
       "      <td>South</td>\n",
       "    </tr>\n",
       "    <tr>\n",
       "      <th>3</th>\n",
       "      <td>CUST1003</td>\n",
       "      <td>60</td>\n",
       "      <td>Female</td>\n",
       "      <td>95</td>\n",
       "      <td>181</td>\n",
       "      <td>29.0</td>\n",
       "      <td>114</td>\n",
       "      <td>No</td>\n",
       "      <td>No</td>\n",
       "      <td>2532</td>\n",
       "      <td>6408</td>\n",
       "      <td>Weight Loss</td>\n",
       "      <td>Off Track</td>\n",
       "      <td>Premium</td>\n",
       "      <td>West</td>\n",
       "    </tr>\n",
       "    <tr>\n",
       "      <th>4</th>\n",
       "      <td>CUST1004</td>\n",
       "      <td>25</td>\n",
       "      <td>Male</td>\n",
       "      <td>83</td>\n",
       "      <td>181</td>\n",
       "      <td>25.3</td>\n",
       "      <td>18</td>\n",
       "      <td>No</td>\n",
       "      <td>Yes</td>\n",
       "      <td>2794</td>\n",
       "      <td>4861</td>\n",
       "      <td>Muscle Gain</td>\n",
       "      <td>Off Track</td>\n",
       "      <td>Basic</td>\n",
       "      <td>South</td>\n",
       "    </tr>\n",
       "  </tbody>\n",
       "</table>\n",
       "</div>"
      ],
      "text/plain": [
       "  CustomerID  Age  Gender  Weight  Height   BMI  ExerciseTime Smoking Alcohol  \\\n",
       "0   CUST1000   56    Male      72     181  22.0            11      No      No   \n",
       "1   CUST1001   46  Female      75     180  23.1            69      No      No   \n",
       "2   CUST1002   32  Female      83     165  30.5            16      No     Yes   \n",
       "3   CUST1003   60  Female      95     181  29.0           114      No      No   \n",
       "4   CUST1004   25    Male      83     181  25.3            18      No     Yes   \n",
       "\n",
       "   CaloriesIntake  StepsDay  FitnessGoal     Status MembershipType Region  \n",
       "0            2034     12940  Maintenance  Off Track        Premium   West  \n",
       "1            3216      9240  Weight Loss   On Track        Premium   East  \n",
       "2            2816     14363  Muscle Gain  Off Track        Premium  South  \n",
       "3            2532      6408  Weight Loss  Off Track        Premium   West  \n",
       "4            2794      4861  Muscle Gain  Off Track          Basic  South  "
      ]
     },
     "execution_count": 4,
     "metadata": {},
     "output_type": "execute_result"
    }
   ],
   "source": [
    "df.head()"
   ]
  },
  {
   "cell_type": "code",
   "execution_count": 5,
   "id": "6fbcc2a7",
   "metadata": {},
   "outputs": [
    {
     "name": "stdout",
     "output_type": "stream",
     "text": [
      "Shape: (1000, 15)\n"
     ]
    }
   ],
   "source": [
    "shape = df.shape\n",
    "print(\"Shape:\", shape)\n"
   ]
  },
  {
   "cell_type": "code",
   "execution_count": 6,
   "id": "729f6d3d",
   "metadata": {},
   "outputs": [
    {
     "name": "stdout",
     "output_type": "stream",
     "text": [
      "<class 'pandas.core.frame.DataFrame'>\n",
      "RangeIndex: 1000 entries, 0 to 999\n",
      "Data columns (total 15 columns):\n",
      " #   Column          Non-Null Count  Dtype  \n",
      "---  ------          --------------  -----  \n",
      " 0   CustomerID      1000 non-null   object \n",
      " 1   Age             1000 non-null   int64  \n",
      " 2   Gender          1000 non-null   object \n",
      " 3   Weight          1000 non-null   int64  \n",
      " 4   Height          1000 non-null   int64  \n",
      " 5   BMI             1000 non-null   float64\n",
      " 6   ExerciseTime    1000 non-null   int64  \n",
      " 7   Smoking         1000 non-null   object \n",
      " 8   Alcohol         1000 non-null   object \n",
      " 9   CaloriesIntake  1000 non-null   int64  \n",
      " 10  StepsDay        1000 non-null   int64  \n",
      " 11  FitnessGoal     1000 non-null   object \n",
      " 12  Status          1000 non-null   object \n",
      " 13  MembershipType  1000 non-null   object \n",
      " 14  Region          1000 non-null   object \n",
      "dtypes: float64(1), int64(6), object(8)\n",
      "memory usage: 117.3+ KB\n"
     ]
    }
   ],
   "source": [
    "df.info()\n"
   ]
  },
  {
   "cell_type": "code",
   "execution_count": 7,
   "id": "0c217900",
   "metadata": {},
   "outputs": [
    {
     "name": "stdout",
     "output_type": "stream",
     "text": [
      "Missing Values:\n",
      "CustomerID        0\n",
      "Age               0\n",
      "Gender            0\n",
      "Weight            0\n",
      "Height            0\n",
      "BMI               0\n",
      "ExerciseTime      0\n",
      "Smoking           0\n",
      "Alcohol           0\n",
      "CaloriesIntake    0\n",
      "StepsDay          0\n",
      "FitnessGoal       0\n",
      "Status            0\n",
      "MembershipType    0\n",
      "Region            0\n",
      "dtype: int64\n"
     ]
    }
   ],
   "source": [
    "print(\"Missing Values:\")\n",
    "print(df.isnull().sum())"
   ]
  },
  {
   "cell_type": "code",
   "execution_count": 10,
   "id": "404b3e07",
   "metadata": {},
   "outputs": [
    {
     "name": "stdout",
     "output_type": "stream",
     "text": [
      "Unique values in Gender: ['Male' 'Female']\n"
     ]
    }
   ],
   "source": [
    "genderUnique = df['Gender'].unique()\n",
    "print(\"Unique values in Gender:\",genderUnique )\n"
   ]
  },
  {
   "cell_type": "code",
   "execution_count": 11,
   "id": "6876f619",
   "metadata": {},
   "outputs": [
    {
     "name": "stdout",
     "output_type": "stream",
     "text": [
      "Gender Distribution:\n",
      "Male      526\n",
      "Female    474\n",
      "Name: Gender, dtype: int64\n"
     ]
    }
   ],
   "source": [
    "print(\"Gender Distribution:\")\n",
    "print(df['Gender'].value_counts())"
   ]
  },
  {
   "cell_type": "code",
   "execution_count": 12,
   "id": "592bf3a5",
   "metadata": {},
   "outputs": [
    {
     "name": "stdout",
     "output_type": "stream",
     "text": [
      "Membership Type Distribution:\n",
      "Basic      502\n",
      "Premium    498\n",
      "Name: MembershipType, dtype: int64\n"
     ]
    }
   ],
   "source": [
    "\n",
    "print(\"Membership Type Distribution:\")\n",
    "print(df['MembershipType'].value_counts())\n"
   ]
  },
  {
   "cell_type": "code",
   "execution_count": null,
   "id": "881fce2c",
   "metadata": {},
   "outputs": [],
   "source": []
  }
 ],
 "metadata": {
  "kernelspec": {
   "display_name": "Python 3 (ipykernel)",
   "language": "python",
   "name": "python3"
  },
  "language_info": {
   "codemirror_mode": {
    "name": "ipython",
    "version": 3
   },
   "file_extension": ".py",
   "mimetype": "text/x-python",
   "name": "python",
   "nbconvert_exporter": "python",
   "pygments_lexer": "ipython3",
   "version": "3.11.4"
  }
 },
 "nbformat": 4,
 "nbformat_minor": 5
}
